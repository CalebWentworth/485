{
 "cells": [
  {
   "cell_type": "code",
   "execution_count": 10,
   "id": "f9defca8-d14a-413c-9a3a-2cfa9a8d87e4",
   "metadata": {},
   "outputs": [
    {
     "name": "stdout",
     "output_type": "stream",
     "text": [
      "[1, 2, 3]\n",
      "[1, 2, 4]\n",
      "[1, 2, 5]\n",
      "[1, 3, 4]\n",
      "[1, 3, 5]\n",
      "[1, 4, 5]\n",
      "[2, 3, 4]\n",
      "[2, 3, 5]\n",
      "[2, 4, 5]\n",
      "[3, 4, 5]\n"
     ]
    }
   ],
   "source": [
    "def findSubsets(myset):\n",
    "    n = len(myset)\n",
    "    if n < 3: #when your set is too small\n",
    "        return\n",
    "    for i in range(n - 2):#first term\n",
    "        for j in range(i + 1, n - 1):#2nd term\n",
    "            for k in range(j + 1, n):#3rd term\n",
    "                subset = [myset[i], myset[j], myset[k]] #assemble\n",
    "                print(subset)\n",
    "\n",
    "myset = [1, 2, 3, 4, 5]\n",
    "findSubsets(myset)\n"
   ]
  },
  {
   "cell_type": "code",
   "execution_count": null,
   "id": "970c9bd7-a2b4-4d23-bf99-82d0abea268a",
   "metadata": {},
   "outputs": [],
   "source": []
  },
  {
   "cell_type": "code",
   "execution_count": null,
   "id": "3c5dd3fc-6445-454e-9c27-33a326c85821",
   "metadata": {},
   "outputs": [],
   "source": []
  }
 ],
 "metadata": {
  "kernelspec": {
   "display_name": "Python 3 (ipykernel)",
   "language": "python",
   "name": "python3"
  },
  "language_info": {
   "codemirror_mode": {
    "name": "ipython",
    "version": 3
   },
   "file_extension": ".py",
   "mimetype": "text/x-python",
   "name": "python",
   "nbconvert_exporter": "python",
   "pygments_lexer": "ipython3",
   "version": "3.10.12"
  }
 },
 "nbformat": 4,
 "nbformat_minor": 5
}
